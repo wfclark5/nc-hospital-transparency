{
 "cells": [
  {
   "cell_type": "code",
   "execution_count": 1,
   "source": [
    "import sys\r\n",
    "\r\n",
    "currentdir = os.path.dirname(os.path.realpath(''))\r\n",
    "\r\n",
    "sys.path.append(currentdir)\r\n",
    "\r\n",
    "from toolbox.scrapers import *\r\n",
    "\r\n",
    "url_download_path = os.path.normpath(os.path.join(abspath, 'data', 'urls'))\r\n",
    "\r\n",
    "urls_json = os.path.join(url_download_path, 'hospital_data_urls.json')\r\n",
    "\r\n",
    "hospital_urls = json.load(open(urls_json))\r\n",
    "\r\n",
    "\r\n"
   ],
   "outputs": [],
   "metadata": {}
  },
  {
   "cell_type": "code",
   "execution_count": null,
   "source": [
    "\r\n",
    "get_duke('duke-university-hospital', hospital_urls)\r\n",
    "\r\n",
    "get_north_carolina_baptist('north-carolina-baptist-hospital', hospital_urls)\r\n",
    "\r\n",
    "get_app('app-regional-health-system', hospital_urls)\r\n",
    "\r\n",
    "get_catawba('catawba-valley-medical-center', hospital_urls)\r\n",
    "\r\n",
    "get_cateret('cateret-health-care', hospital_urls)\r\n",
    "\r\n",
    "get_cone('cone-health', hospital_urls)\r\n",
    "\r\n",
    "get_first('first-health-moore', hospital_urls)\r\n",
    "\r\n",
    "get_first('first-health-montgomery', hospital_urls)\r\n",
    "\r\n",
    "get_iredell('iredell-health', hospital_urls)\r\n",
    "\r\n",
    "get_mission('mission-health', hospital_urls)\r\n",
    "\r\n",
    "get_nhrmc('nhrmc-health', hospital_urls)\r\n",
    "\r\n",
    "get_northern('northern-regional', hospital_urls)\r\n",
    "\r\n",
    "get_novant('novant-health', hospital_urls)\r\n",
    "\r\n",
    "get_wakemed('wakemed-raleigh', hospital_urls)\r\n",
    "\r\n",
    "get_wakemed('wakemed-cary', hospital_urls)\r\n",
    "\r\n",
    "get_vidant('vidant-health', hospital_urls)\r\n",
    "\r\n",
    "get_atrium('atrium-health', hospital_urls)"
   ],
   "outputs": [
    {
     "output_type": "stream",
     "name": "stdout",
     "text": [
      "<class 'pandas.core.frame.DataFrame'>\n",
      "RangeIndex: 761 entries, 0 to 760\n",
      "Data columns (total 19 columns):\n",
      " #   Column                 Non-Null Count  Dtype \n",
      "---  ------                 --------------  ----- \n",
      " 0   MS DRG                 761 non-null    int64 \n",
      " 1   MS DRG w Description   761 non-null    object\n",
      " 2   Medicare Adv - Aetna   761 non-null    object\n",
      " 3   Medicare Adv - BCBS    761 non-null    object\n",
      " 4   Medicare Adv - Humana  761 non-null    object\n",
      " 5   Medicare Adv - United  761 non-null    object\n",
      " 6   Medicare Adv - Other   761 non-null    object\n",
      " 7   Aetna                  761 non-null    object\n",
      " 8   BCBS                   761 non-null    object\n",
      " 9   Cigna                  761 non-null    object\n",
      " 10  Exchange/Ambetter      761 non-null    object\n",
      " 11  Medcost                761 non-null    object\n",
      " 12  United                 761 non-null    object\n",
      " 13  Other Mgd Care         761 non-null    object\n",
      " 14  Tricare                761 non-null    object\n",
      " 15  Workers Comp           761 non-null    object\n",
      " 16  Self Pay               761 non-null    object\n",
      " 17  De-identified Minimum  761 non-null    object\n",
      " 18  De-identified Maximum  761 non-null    object\n",
      "dtypes: int64(1), object(18)\n",
      "memory usage: 113.1+ KB\n"
     ]
    }
   ],
   "metadata": {}
  },
  {
   "cell_type": "code",
   "execution_count": null,
   "source": [
    "# ws_access_key_id=os.environ['AWS_ACCESS_KEY_ID']\r\n",
    "\r\n",
    "# ws_access_key_id\r\n",
    "\r\n",
    "aws_secret_access_key=os.environ['AWS_SECRET_ACCESS_KEY']\r\n",
    "    "
   ],
   "outputs": [],
   "metadata": {}
  },
  {
   "cell_type": "code",
   "execution_count": null,
   "source": [
    "aws_secret_access_key"
   ],
   "outputs": [
    {
     "output_type": "execute_result",
     "data": {
      "text/plain": [
       "'1bKjkgGBO4YgleMyhhhHr1HgEY6wY33Q/2RA++7T'"
      ]
     },
     "metadata": {},
     "execution_count": 5
    }
   ],
   "metadata": {}
  },
  {
   "cell_type": "code",
   "execution_count": null,
   "source": [],
   "outputs": [],
   "metadata": {}
  }
 ],
 "metadata": {
  "orig_nbformat": 4,
  "language_info": {
   "name": "python",
   "version": "3.8.5",
   "mimetype": "text/x-python",
   "codemirror_mode": {
    "name": "ipython",
    "version": 3
   },
   "pygments_lexer": "ipython3",
   "nbconvert_exporter": "python",
   "file_extension": ".py"
  },
  "kernelspec": {
   "name": "python3",
   "display_name": "Python 3.8.5 64-bit ('base': conda)"
  },
  "interpreter": {
   "hash": "d83ad3a39640e45593c9df71430ee3ad7d7609991877e929a0498be1b4dbd18b"
  }
 },
 "nbformat": 4,
 "nbformat_minor": 2
}