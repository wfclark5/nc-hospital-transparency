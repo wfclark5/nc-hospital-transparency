{
 "cells": [
  {
   "cell_type": "code",
   "execution_count": 2,
   "source": [
    "import sys\r\n",
    "\r\n",
    "abspath = os.path.normpath(os.path.dirname(os.path.dirname('..')))\r\n",
    "\r\n",
    "sys.path.append(currentdir)\r\n",
    "\r\n",
    "from toolbox.scrapers import *\r\n",
    "\r\n",
    "url_download_path = os.path.normpath(os.path.join(abspath, 'data', 'urls'))\r\n",
    "\r\n",
    "urls_json = os.path.join(url_download_path, 'hospital_data_urls.json')\r\n",
    "\r\n",
    "hospital_urls = json.load(open(urls_json))\r\n",
    "\r\n",
    "\r\n"
   ],
   "outputs": [],
   "metadata": {}
  },
  {
   "cell_type": "code",
   "execution_count": 3,
   "source": [
    "\r\n",
    "get_duke('duke-university-hospital', hospital_urls)\r\n",
    "\r\n",
    "get_north_carolina_baptist('north-carolina-baptist-hospital', hospital_urls)\r\n",
    "\r\n",
    "get_app('app-regional-health-system', hospital_urls)\r\n",
    "\r\n",
    "get_catawba('catawba-valley-medical-center', hospital_urls)\r\n",
    "\r\n",
    "get_cateret('cateret-health-care', hospital_urls)\r\n",
    "\r\n",
    "get_cone('cone-health', hospital_urls)\r\n",
    "\r\n",
    "get_first('first-health-moore', hospital_urls)\r\n",
    "\r\n",
    "get_first('first-health-montgomery', hospital_urls)\r\n",
    "\r\n",
    "get_iredell('iredell-health', hospital_urls)\r\n",
    "\r\n",
    "get_mission('mission-health', hospital_urls)\r\n",
    "\r\n",
    "get_nhrmc('nhrmc-health', hospital_urls)\r\n",
    "\r\n",
    "get_northern('northern-regional', hospital_urls)\r\n",
    "\r\n",
    "get_novant('novant-health', hospital_urls)\r\n",
    "\r\n",
    "get_wakemed('wakemed-raleigh', hospital_urls)\r\n",
    "\r\n",
    "get_wakemed('wakemed-cary', hospital_urls)\r\n",
    "\r\n",
    "get_vidant('vidant-health', hospital_urls)\r\n",
    "\r\n",
    "get_atrium('atrium-health', hospital_urls)"
   ],
   "outputs": [
    {
     "output_type": "stream",
     "name": "stdout",
     "text": [
      "https://www.dukehealth.org//sites/default/files/general_page/56-2070036_DRaH_standardcharges_drg.csv\n",
      "56-2070036_DRaH_standardcharges_drg.csv\n"
     ]
    },
    {
     "output_type": "error",
     "ename": "PermissionError",
     "evalue": "[Errno 13] Permission denied: 'C:\\\\Users\\\\remot\\\\OneDrive\\\\Desktop\\\\Personal\\\\nc-hospital-transparency\\\\data\\\\raw\\\\duke-university-hospital\\\\56-2070036_DRaH_standardcharges_drg.csv'",
     "traceback": [
      "\u001b[1;31m---------------------------------------------------------------------------\u001b[0m",
      "\u001b[1;31mPermissionError\u001b[0m                           Traceback (most recent call last)",
      "\u001b[1;32m<ipython-input-3-44a892ced806>\u001b[0m in \u001b[0;36m<module>\u001b[1;34m\u001b[0m\n\u001b[1;32m----> 1\u001b[1;33m \u001b[0mget_duke\u001b[0m\u001b[1;33m(\u001b[0m\u001b[1;34m'duke-university-hospital'\u001b[0m\u001b[1;33m,\u001b[0m \u001b[0mhospital_urls\u001b[0m\u001b[1;33m)\u001b[0m\u001b[1;33m\u001b[0m\u001b[1;33m\u001b[0m\u001b[0m\n\u001b[0m\u001b[0;32m      2\u001b[0m \u001b[1;33m\u001b[0m\u001b[0m\n\u001b[0;32m      3\u001b[0m \u001b[0mget_north_carolina_baptist\u001b[0m\u001b[1;33m(\u001b[0m\u001b[1;34m'north-carolina-baptist-hospital'\u001b[0m\u001b[1;33m,\u001b[0m \u001b[0mhospital_urls\u001b[0m\u001b[1;33m)\u001b[0m\u001b[1;33m\u001b[0m\u001b[1;33m\u001b[0m\u001b[0m\n\u001b[0;32m      4\u001b[0m \u001b[1;33m\u001b[0m\u001b[0m\n\u001b[0;32m      5\u001b[0m \u001b[0mget_app\u001b[0m\u001b[1;33m(\u001b[0m\u001b[1;34m'app-regional-health-system'\u001b[0m\u001b[1;33m,\u001b[0m \u001b[0mhospital_urls\u001b[0m\u001b[1;33m)\u001b[0m\u001b[1;33m\u001b[0m\u001b[1;33m\u001b[0m\u001b[0m\n",
      "\u001b[1;32m~\\OneDrive\\Desktop\\Personal\\nc-hospital-transparency\\toolbox\\scrapers.py\u001b[0m in \u001b[0;36mget_duke\u001b[1;34m(hospital_id, hospital_urls)\u001b[0m\n\u001b[0;32m     89\u001b[0m         \u001b[1;31m# df = pd.read_csv(response.content)\u001b[0m\u001b[1;33m\u001b[0m\u001b[1;33m\u001b[0m\u001b[1;33m\u001b[0m\u001b[0m\n\u001b[0;32m     90\u001b[0m \u001b[1;33m\u001b[0m\u001b[0m\n\u001b[1;32m---> 91\u001b[1;33m         \u001b[1;32mwith\u001b[0m \u001b[0mopen\u001b[0m\u001b[1;33m(\u001b[0m\u001b[0mos\u001b[0m\u001b[1;33m.\u001b[0m\u001b[0mpath\u001b[0m\u001b[1;33m.\u001b[0m\u001b[0mjoin\u001b[0m\u001b[1;33m(\u001b[0m\u001b[0mdownload_path\u001b[0m\u001b[1;33m,\u001b[0m \u001b[0mfilename\u001b[0m\u001b[1;33m)\u001b[0m\u001b[1;33m,\u001b[0m \u001b[1;34m'wb'\u001b[0m\u001b[1;33m)\u001b[0m \u001b[1;32mas\u001b[0m \u001b[0mf\u001b[0m\u001b[1;33m:\u001b[0m\u001b[1;33m\u001b[0m\u001b[1;33m\u001b[0m\u001b[0m\n\u001b[0m\u001b[0;32m     92\u001b[0m             \u001b[0mf\u001b[0m\u001b[1;33m.\u001b[0m\u001b[0mwrite\u001b[0m\u001b[1;33m(\u001b[0m\u001b[0mresponse\u001b[0m\u001b[1;33m.\u001b[0m\u001b[0mcontent\u001b[0m\u001b[1;33m)\u001b[0m\u001b[1;33m\u001b[0m\u001b[1;33m\u001b[0m\u001b[0m\n\u001b[0;32m     93\u001b[0m \u001b[1;33m\u001b[0m\u001b[0m\n",
      "\u001b[1;31mPermissionError\u001b[0m: [Errno 13] Permission denied: 'C:\\\\Users\\\\remot\\\\OneDrive\\\\Desktop\\\\Personal\\\\nc-hospital-transparency\\\\data\\\\raw\\\\duke-university-hospital\\\\56-2070036_DRaH_standardcharges_drg.csv'"
     ]
    }
   ],
   "metadata": {}
  },
  {
   "cell_type": "code",
   "execution_count": null,
   "source": [
    "# ws_access_key_id=os.environ['AWS_ACCESS_KEY_ID']\r\n",
    "\r\n",
    "# ws_access_key_id\r\n",
    "\r\n",
    "aws_secret_access_key=os.environ['AWS_SECRET_ACCESS_KEY']\r\n",
    "    "
   ],
   "outputs": [],
   "metadata": {}
  },
  {
   "cell_type": "code",
   "execution_count": null,
   "source": [
    "aws_secret_access_key"
   ],
   "outputs": [
    {
     "output_type": "execute_result",
     "data": {
      "text/plain": [
       "'1bKjkgGBO4YgleMyhhhHr1HgEY6wY33Q/2RA++7T'"
      ]
     },
     "metadata": {},
     "execution_count": 5
    }
   ],
   "metadata": {}
  },
  {
   "cell_type": "code",
   "execution_count": null,
   "source": [],
   "outputs": [],
   "metadata": {}
  }
 ],
 "metadata": {
  "orig_nbformat": 4,
  "language_info": {
   "name": "python",
   "version": "3.8.5",
   "mimetype": "text/x-python",
   "codemirror_mode": {
    "name": "ipython",
    "version": 3
   },
   "pygments_lexer": "ipython3",
   "nbconvert_exporter": "python",
   "file_extension": ".py"
  },
  "kernelspec": {
   "name": "python3",
   "display_name": "Python 3.8.5 64-bit ('base': conda)"
  },
  "interpreter": {
   "hash": "d83ad3a39640e45593c9df71430ee3ad7d7609991877e929a0498be1b4dbd18b"
  }
 },
 "nbformat": 4,
 "nbformat_minor": 2
}