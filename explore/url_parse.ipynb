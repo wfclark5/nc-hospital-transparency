{
 "cells": [
  {
   "cell_type": "code",
   "execution_count": 1,
   "source": [
    "import os\r\n",
    "import requests\r\n",
    "import json\r\n",
    "import datetime\r\n",
    "import shutil\r\n",
    "from bs4 import BeautifulSoup\r\n",
    "import pandas as pd\r\n",
    "from random import choice\r\n",
    "from selenium.common.exceptions import TimeoutException\r\n",
    "import time\r\n",
    "from selenium import webdriver\r\n",
    "from selenium.webdriver.support.ui import WebDriverWait\r\n",
    "from selenium.webdriver.common.by import By\r\n",
    "from selenium.webdriver.support import expected_conditions as EC\r\n",
    "from urllib.parse import urlparse\r\n",
    "from time import sleep, time\r\n",
    "from random import uniform, randint\r\n",
    "import json\r\n",
    "from urllib.parse import urlsplit\r\n",
    "import urllib3\r\n",
    "from glob import glob "
   ],
   "outputs": [],
   "metadata": {}
  },
  {
   "cell_type": "code",
   "execution_count": 2,
   "source": [
    "hospital_urls = r'C:\\Users\\remot\\OneDrive\\Desktop\\Personal\\nc-hospital-transparency\\data\\urls\\hospital_data_urls.json'"
   ],
   "outputs": [],
   "metadata": {}
  },
  {
   "cell_type": "code",
   "execution_count": 3,
   "source": [
    "urls_json = json.load(open(hospital_urls))"
   ],
   "outputs": [],
   "metadata": {}
  },
  {
   "cell_type": "code",
   "execution_count": 4,
   "source": [
    "print(urls_json.keys())"
   ],
   "outputs": [
    {
     "output_type": "stream",
     "name": "stdout",
     "text": [
      "dict_keys(['duke-university-hospital', 'north-carolina-baptist-hospital', 'university-of-north-carolina-hospital', 'app-regional-health-system', 'atrium-health', 'catawba-valley-medical-center', 'cateret-health-care', 'cone-health', 'first-health-moore', 'first-health-montgomery', 'iredell-health', 'mission-health', 'nhrmc-health', 'northern-regional', 'novant-health', 'vidant-health', 'wakemed-raleigh', 'wakemed-cary'])\n"
     ]
    }
   ],
   "metadata": {}
  },
  {
   "cell_type": "code",
   "execution_count": 5,
   "source": [
    "duke = urls_json['duke-university-hospital']\r\n",
    "north_carolina_bapitist = urls_json['north-carolina-baptist-hospital']\r\n",
    "university = urls_json['university-of-north-carolina-hospital']\r\n",
    "app = urls_json['app-regional-health-system']\r\n",
    "atrium = urls_json['atrium-health']\r\n",
    "catawba = urls_json['catawba-valley-medical-center']\r\n",
    "cateret = urls_json['cateret-health-care']\r\n",
    "cone = urls_json['cone-health']\r\n",
    "first = urls_json['first-health-moore']\r\n",
    "first = urls_json['first-health-montgomery']\r\n",
    "iredell = urls_json['iredell-health']\r\n",
    "mission = urls_json['mission-health']\r\n",
    "nhrmc = urls_json['nhrmc-health']\r\n",
    "northern = urls_json['northern-regional']\r\n",
    "novant = urls_json['novant-health']\r\n",
    "vidant = urls_json['vidant-health']\r\n",
    "wakemed = urls_json['wakemed-raleigh']\r\n",
    "wakemed = urls_json['wakemed-cary']"
   ],
   "outputs": [],
   "metadata": {}
  },
  {
   "cell_type": "code",
   "execution_count": 6,
   "source": [
    "vidant"
   ],
   "outputs": [
    {
     "output_type": "execute_result",
     "data": {
      "text/plain": [
       "['https://www.vidanthealth.com/wp-content/uploads/2021/06/56-0989789-VIDANT-NORTH-STANDARD-CHARGES-1.xlsx',\n",
       " 'https://www.vidanthealth.com/wp-content/uploads/2021/06/56-6011594-VIDANT-DUPLIN-STANDARD-CHARGES.xlsx',\n",
       " 'https://www.vidanthealth.com/wp-content/uploads/2021/06/56-2112733-THE-OUTER-BANKS-STANDARD-CHARGES.xlsx',\n",
       " 'https://www.vidanthealth.com/wp-content/uploads/2021/06/56-0585243-VIDANT-MEDICAL-CENTER-STANDARD-CHARGES.xlsx',\n",
       " 'https://www.vidanthealth.com/wp-content/uploads/2021/06/45-2436270-VIDANT-BEAUFORT-STANDARD-CHARGES.xlsx',\n",
       " 'https://www.vidanthealth.com/wp-content/uploads/2021/06/56-2072002-VIDANT-BERTIE-STANDARD-CHARGES.xlsx',\n",
       " 'https://www.vidanthealth.com/wp-content/uploads/2021/06/56-2003393-VIDANT-ROANOKE-CHOWAN-STANDARD-CHARGES.xlsx',\n",
       " 'https://www.vidanthealth.com/wp-content/uploads/2021/06/56-2093700-VIDANT-EDGECOMBE-STANDARD-CHARGES.xlsx',\n",
       " 'https://www.vidanthealth.com/wp-content/uploads/2021/06/56-2101090-VIDANT-CHOWAN-STANDARD-CHARGES.xlsx']"
      ]
     },
     "metadata": {},
     "execution_count": 6
    }
   ],
   "metadata": {}
  },
  {
   "cell_type": "code",
   "execution_count": 7,
   "source": [
    "# write a function to itarate through the urls and download the csv data with pandas\r\n",
    "from modules.scraper import * \r\n",
    "\r\n",
    "abspath = os.path.normpath(os.path.abspath(''))\r\n",
    "\r\n",
    "raw_download_path = os.path.normpath(os.path.join(abspath, 'data', 'raw'))\r\n",
    "\r\n",
    "url_download_path = os.path.normpath(os.path.join(abspath, 'data', 'urls'))\r\n",
    "\r\n",
    "data_urls_path = os.path.join(url_download_path, 'hospital_data_urls.json')\r\n",
    "\r\n",
    "driver_path = os.path.join(abspath, 'drivers', 'chromedriver.exe')\r\n",
    "\r\n",
    "            \r\n",
    "\r\n",
    "def get_data(url_list, download_path, wakemed=False):\r\n",
    "    driver = create_driver(download_path, driver_path)\r\n",
    "    for url in url_list:\r\n",
    "        if wakemed == True:\r\n",
    "            get_wakemed_data(driver, url)\r\n",
    "        else:\r\n",
    "            get_url_data(driver, url, is_download=True, wait=True)\r\n",
    "    \r\n",
    "\r\n",
    "\r\n",
    "def get_duke(url_list, download_path):\r\n",
    "    get_data(url_list, download_path)\r\n",
    "\r\n",
    "def get_north_carolina_bapitist(url_list, download_path):\r\n",
    "    get_data(url_list, download_path)\r\n",
    "\r\n",
    "def get_university(url_list, download_path):\r\n",
    "    get_data(url_list, download_path)\r\n",
    "\r\n",
    "def get_app(url_list, download_path):\r\n",
    "    get_data(url_list, download_path)\r\n",
    "\r\n",
    "def get_atrium(url_list, download_path):\r\n",
    "    get_data(url_list, raw_download_path)\r\n",
    "\r\n",
    "def get_catawba(url_list, download_path):\r\n",
    "    get_data(url_list, download_path)\r\n",
    "\r\n",
    "def get_cateret(url_list, download_path):\r\n",
    "    get_data(url_list, download_path)\r\n",
    "\r\n",
    "def get_cone(url_list, download_path):\r\n",
    "    get_data(url_list, download_path)\r\n",
    "\r\n",
    "def get_first(url_list, download_path):\r\n",
    "    get_data(url_list, download_path)\r\n",
    "\r\n",
    "def get_iredell(url_list, download_path):\r\n",
    "    get_data(url_list, download_path)\r\n",
    "\r\n",
    "def get_mission(url_list, download_path):\r\n",
    "    get_data(url_list, download_path)\r\n",
    "\r\n",
    "def get_nhrmc(url_list, download_path):\r\n",
    "    get_data(url_list, download_path)\r\n",
    "\r\n",
    "def get_northern(url_list, download_path):\r\n",
    "    get_data(url_list, download_path)\r\n",
    "\r\n",
    "def get_novant(url_list, download_path):\r\n",
    "    get_data(url_list, download_path)\r\n",
    "\r\n",
    "def get_vidant(url_list, download_path):\r\n",
    "    get_data(url_list, download_path)\r\n",
    "\r\n",
    "def get_wakemed(url_list, download_path):\r\n",
    "    get_wakemed_data(url_list, download_path)\r\n",
    "\r\n",
    "\r\n",
    "\r\n",
    "for file in os.listdir(raw_download_path):\r\n",
    "    file_path = os.path.join(raw_download_path, file)\r\n",
    "    try:\r\n",
    "        if os.path.isfile(file_path):\r\n",
    "            os.unlink(file_path)\r\n",
    "    except Exception as e:\r\n",
    "        print(e)"
   ],
   "outputs": [],
   "metadata": {}
  },
  {
   "cell_type": "code",
   "execution_count": 11,
   "source": [
    "# get_duke(duke, raw_download_path)\r\n",
    "# get_vidant(vidant, raw_download_path)\r\n",
    "# get_north_carolina_bapitist(north_carolina_bapitist, raw_download_path)\r\n",
    "get_app(app, raw_download_path)\r\n",
    "# get_catawba(catawba, raw_download_path)\r\n",
    "# get_cateret(cateret, raw_download_path)\r\n",
    "# get_cone(cone, raw_download_path)\r\n",
    "# get_first(first, raw_download_path)\r\n",
    "# get_iredell(iredell, raw_download_path)\r\n",
    "# get_mission(mission, raw_download_path)\r\n",
    "# get_nhrmc(nhrmc, raw_download_path)\r\n",
    "# get_northern(northern, raw_download_path)\r\n",
    "# get_novant(novant, raw_download_path)\r\n",
    "# get_wakemed(wakemed, raw_download_path)\r\n"
   ],
   "outputs": [],
   "metadata": {}
  },
  {
   "cell_type": "code",
   "execution_count": 10,
   "source": [
    "\r\n",
    "# , agent='Mozilla/5.0 (Windows NT 10.0; Win64; x64) AppleWebKit/537.36 (KHTML, like Gecko) Chrome/80.0.3987.149 Safari/537.36')\r\n"
   ],
   "outputs": [],
   "metadata": {}
  },
  {
   "cell_type": "code",
   "execution_count": 11,
   "source": [
    "os.system(\"wget -P \" + raw_download_path + \" \" + \"https://www.duke.edu/sites/default/files/documents/health/health-data-downloads/2020-03-01-hospital-data-download.csv\")"
   ],
   "outputs": [
    {
     "output_type": "execute_result",
     "data": {
      "text/plain": [
       "1"
      ]
     },
     "metadata": {},
     "execution_count": 11
    }
   ],
   "metadata": {}
  },
  {
   "cell_type": "code",
   "execution_count": 12,
   "source": [
    "os.system(\"wget --help\")"
   ],
   "outputs": [
    {
     "output_type": "execute_result",
     "data": {
      "text/plain": [
       "1"
      ]
     },
     "metadata": {},
     "execution_count": 12
    }
   ],
   "metadata": {}
  },
  {
   "cell_type": "code",
   "execution_count": 14,
   "source": [
    "import re \r\n",
    "import requests \r\n",
    "\r\n",
    "\r\n",
    "def get_filename_from_cd(cd):\r\n",
    "    \"\"\"\r\n",
    "    Get filename from content-disposition\r\n",
    "    \"\"\"\r\n",
    "    if not cd:\r\n",
    "        return None\r\n",
    "    fname = re.findall('filename=(.+)', cd)\r\n",
    "    if len(fname) == 0:\r\n",
    "        return None\r\n",
    "    return fname[0]\r\n",
    "\r\n",
    "\r\n",
    "url = 'https://www.duke.edu/sites/default/files/documents/health/health-data-downloads/2020-03-01-hospital-data-download.csv'\r\n",
    "r = requests.get(url, allow_redirects=True)\r\n",
    "filename = get_filename_from_cd(r.headers.get('content-disposition'))\r\n",
    "open(filename, 'wb').write(r.content)"
   ],
   "outputs": [
    {
     "output_type": "error",
     "ename": "TypeError",
     "evalue": "expected str, bytes or os.PathLike object, not NoneType",
     "traceback": [
      "\u001b[1;31m---------------------------------------------------------------------------\u001b[0m",
      "\u001b[1;31mTypeError\u001b[0m                                 Traceback (most recent call last)",
      "\u001b[1;32m<ipython-input-14-9b7ddc9e0597>\u001b[0m in \u001b[0;36m<module>\u001b[1;34m\u001b[0m\n\u001b[0;32m     18\u001b[0m \u001b[0mr\u001b[0m \u001b[1;33m=\u001b[0m \u001b[0mrequests\u001b[0m\u001b[1;33m.\u001b[0m\u001b[0mget\u001b[0m\u001b[1;33m(\u001b[0m\u001b[0murl\u001b[0m\u001b[1;33m,\u001b[0m \u001b[0mallow_redirects\u001b[0m\u001b[1;33m=\u001b[0m\u001b[1;32mTrue\u001b[0m\u001b[1;33m)\u001b[0m\u001b[1;33m\u001b[0m\u001b[1;33m\u001b[0m\u001b[0m\n\u001b[0;32m     19\u001b[0m \u001b[0mfilename\u001b[0m \u001b[1;33m=\u001b[0m \u001b[0mget_filename_from_cd\u001b[0m\u001b[1;33m(\u001b[0m\u001b[0mr\u001b[0m\u001b[1;33m.\u001b[0m\u001b[0mheaders\u001b[0m\u001b[1;33m.\u001b[0m\u001b[0mget\u001b[0m\u001b[1;33m(\u001b[0m\u001b[1;34m'content-disposition'\u001b[0m\u001b[1;33m)\u001b[0m\u001b[1;33m)\u001b[0m\u001b[1;33m\u001b[0m\u001b[1;33m\u001b[0m\u001b[0m\n\u001b[1;32m---> 20\u001b[1;33m \u001b[0mopen\u001b[0m\u001b[1;33m(\u001b[0m\u001b[0mfilename\u001b[0m\u001b[1;33m,\u001b[0m \u001b[1;34m'wb'\u001b[0m\u001b[1;33m)\u001b[0m\u001b[1;33m.\u001b[0m\u001b[0mwrite\u001b[0m\u001b[1;33m(\u001b[0m\u001b[0mr\u001b[0m\u001b[1;33m.\u001b[0m\u001b[0mcontent\u001b[0m\u001b[1;33m)\u001b[0m\u001b[1;33m\u001b[0m\u001b[1;33m\u001b[0m\u001b[0m\n\u001b[0m",
      "\u001b[1;31mTypeError\u001b[0m: expected str, bytes or os.PathLike object, not NoneType"
     ]
    }
   ],
   "metadata": {}
  },
  {
   "cell_type": "code",
   "execution_count": null,
   "source": [],
   "outputs": [],
   "metadata": {}
  }
 ],
 "metadata": {
  "orig_nbformat": 4,
  "language_info": {
   "name": "python",
   "version": "3.8.5",
   "mimetype": "text/x-python",
   "codemirror_mode": {
    "name": "ipython",
    "version": 3
   },
   "pygments_lexer": "ipython3",
   "nbconvert_exporter": "python",
   "file_extension": ".py"
  },
  "kernelspec": {
   "name": "python3",
   "display_name": "Python 3.8.5 64-bit ('base': conda)"
  },
  "interpreter": {
   "hash": "d83ad3a39640e45593c9df71430ee3ad7d7609991877e929a0498be1b4dbd18b"
  }
 },
 "nbformat": 4,
 "nbformat_minor": 2
}