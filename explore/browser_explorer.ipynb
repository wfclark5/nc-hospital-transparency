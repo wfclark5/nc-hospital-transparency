{
 "cells": [
  {
   "cell_type": "code",
   "execution_count": 1,
   "source": [
    "from modules.scraper import *\r\n",
    "\r\n",
    "abspath = os.path.dirname(os.path.abspath(''))\r\n",
    "\r\n",
    "download_path = os.path.join(abspath, 'data', 'raw')\r\n",
    "\r\n",
    "driver_path = os.path.join(abspath, 'drivers', 'chromedriver.exe')\r\n",
    "\r\n",
    "json = json.loads(open(os.path.join(abspath, 'additional_exports.json')).read())\r\n"
   ],
   "outputs": [],
   "metadata": {}
  },
  {
   "cell_type": "code",
   "execution_count": 2,
   "source": [
    "json"
   ],
   "outputs": [
    {
     "output_type": "execute_result",
     "data": {
      "text/plain": [
       "{'university-of-north-carolina-hospital': ['http://portalapprev.com/ptapp/#968964e8e349e2289a4b94ee72948c71b877ce89d0b9cdeb45d61e126eab9896',\n",
       "  'http://portalapprev.com/ptapp/#6864cd865dc9126d1ceb5dba82cccac976f64b50ff09491ea3ef6d72ac9bcffd',\n",
       "  'http://portalapprev.com/ptapp/#ce2afee182dc4f67a537e90e9a8037e82a0deb7d7bc758280d0cd5d66c634ada',\n",
       "  'http://portalapprev.com/ptapp/#3903c4d6330984f9b7e84e01ab9e392c4786dfac56f8105778ef27c66cdf035',\n",
       "  'http://portalapprev.com/ptapp/#62bfdf8b1690285fcd35da91d1edbbbbf2c5721dcbbbd16e7e2e7b7d8de3e597',\n",
       "  'http://portalapprev.com/ptapp/#ba3c4e2c4a2e1f7ea210c970fc4319b1465e1ac06ec9ea1c4d6cfc8c1be9351c',\n",
       "  'https://portalapprev.com/ptapp/#d4ccc071fab9c79f17e52dc5b243ef668affc5e569aafa907c5b4c81f0a89284',\n",
       "  'http://portalapprev.com/ptapp/#8d086f6527295fbb6f6d253f3b5548b85ef9fcad8319564656464e552fff3d1e',\n",
       "  'http://portalapprev.com/ptapp/#1bebae81d06505b29fc9a5323fb9dac3f480979f0fa32bf4004915e0207d36a9',\n",
       "  'http://portalapprev.com/ptapp/#b1f9dd1570d8e8f2b7f3cc8cfdd353c8dd2f856b654beeed377bcea39a1d9196'],\n",
       " 'atrium-health': ['https://chsprodrsrcegrporg385.blob.core.windows.net/cms-price-transparency/56-1398929_AtriumHealthBehavioralHealth_StandardCharges.json',\n",
       "  'https://chsprodrsrcegrporg385.blob.core.windows.net/cms-price-transparency/56-0529945_AtriumHealthCabarrus_StandardCharges.json',\n",
       "  'https://chsprodrsrcegrporg385.blob.core.windows.net/cms-price-transparency/56-1398929_CarolinasMedicalCenter_StandardCharges.json',\n",
       "  'https://chsprodrsrcegrporg385.blob.core.windows.net/cms-price-transparency/56-0529945_AtriumHealthStanly_StandardCharges.json',\n",
       "  'https://chsprodrsrcegrporg385.blob.core.windows.net/cms-price-transparency/56-0529945_AtriumHealthUnion_StandardCharges.json',\n",
       "  'https://chsprodrsrcegrporg385.blob.core.windows.net/cms-price-transparency/56-1398929_AtriumHealthMercy_StandardCharges.json',\n",
       "  'https://chsprodrsrcegrporg385.blob.core.windows.net/cms-price-transparency/56-0529945_AtriumHealthCleveland_StandardCharges.json',\n",
       "  'https://chsprodrsrcegrporg385.blob.core.windows.net/cms-price-transparency/56-0529945_AtriumHealthAnson_StandardCharges.json',\n",
       "  'https://chsprodrsrcegrporg385.blob.core.windows.net/cms-price-transparency/56-0529945_AtriumHealthUniversity_StandardCharges.json',\n",
       "  'https://chsprodrsrcegrporg385.blob.core.windows.net/cms-price-transparency/56-0529945_AtriumHealthLincoln_StandardCharges.json',\n",
       "  'https://chsprodrsrcegrporg385.blob.core.windows.net/cms-price-transparency/56-1398930_CarolinasRehabilitation_StandardCharges.json',\n",
       "  'https://chsprodrsrcegrporg385.blob.core.windows.net/cms-price-transparency/56-0529945_AtriumHealthPineville_StandardCharges.json'],\n",
       " 'wakemed-raleigh': ['https://search.hospitalpriceindex.com/hpi2/allServices/WakeMedRaleighCampus/8233or/all'],\n",
       " 'wakemed-cary': ['https://search.hospitalpriceindex.com/hpi2/allServices/WakeMedCaryHospital/8232or/all']}"
      ]
     },
     "metadata": {},
     "execution_count": 2
    }
   ],
   "metadata": {}
  },
  {
   "cell_type": "code",
   "execution_count": 3,
   "source": [
    "driver = create_driver(download_path, driver_path)\r\n",
    "\r\n",
    "for hospital_id, url_list in json.items():\r\n",
    "\r\n",
    "    for index, url in enumerate(url_list):\r\n",
    "\r\n",
    "        if 'wakemed' in hospital_id:\r\n",
    "\r\n",
    "            # if file exists delete it and download it again\r\n",
    "            \r\n",
    "            driver.get(url)\r\n",
    "\r\n",
    "            xpath = '/html/body/app-root/app-allservices/div[1]/div/div[3]/div/app-paginator/div[2]/div/div/button'\r\n",
    "\r\n",
    "            driver.execute_script(\"arguments[0].click();\", WebDriverWait(driver, 20).until(EC.element_to_be_clickable((By.XPATH, xpath))))\r\n",
    "\r\n",
    "            driver.switch_to.alert.accept()\r\n",
    "\r\n",
    "            sleep(20)\r\n",
    "\r\n",
    "        if 'atrium-health' in hospital_id:\r\n",
    "\r\n",
    "            # parse subdirectories in URL to get the correct directory\r\n",
    "\r\n",
    "            url_split = urlsplit(url)\r\n",
    "\r\n",
    "            url_path = url_split.path\r\n",
    "\r\n",
    "            url_path_split = url_path.split('/')\r\n",
    "\r\n",
    "            url_path_split = url_path_split[1:]\r\n",
    "\r\n",
    "            filename = url_path_split[1]\r\n",
    "\r\n",
    "            http = urllib3.PoolManager()\r\n",
    "            \r\n",
    "            r = http.request('GET', url)\r\n",
    "\r\n",
    "            with open('data/' + filename + '.json', 'wb') as f:\r\n",
    "\r\n",
    "                f.write(r.data)\r\n",
    "                "
   ],
   "outputs": [
    {
     "output_type": "stream",
     "name": "stdout",
     "text": [
      "https://search.hospitalpriceindex.com/hpi2/allServices/WakeMedRaleighCampus/8233or/all\n",
      "https://search.hospitalpriceindex.com/hpi2/allServices/WakeMedCaryHospital/8232or/all\n"
     ]
    }
   ],
   "metadata": {}
  },
  {
   "cell_type": "code",
   "execution_count": null,
   "source": [
    "        # if 'university-of-north-carolina-hospital' in hospital_id:\r\n",
    "            \r\n",
    "        #     driver = get_unc_data(driver, url)\r\n",
    "\r\n",
    "        #     source = driver.page_source\r\n",
    "\r\n",
    "        #     soup = BeautifulSoup(source, 'lxml')\r\n",
    "\r\n",
    "        #     for entry in soup.find_all(['iframe'], href=True):\r\n",
    "\r\n",
    "        #         download_url = entry.get('src')\r\n",
    "\r\n",
    "        #         if 'CSV' in download_url:\r\n",
    "\r\n",
    "        #             base_url = 'https://portalapprev.com/ptapp/#'\r\n",
    "\r\n",
    "        #             download_url = base_url + '/' + download_url\r\n",
    "\r\n",
    "        #             driver.get(download_url)\r\n"
   ],
   "outputs": [],
   "metadata": {}
  }
 ],
 "metadata": {
  "orig_nbformat": 4,
  "language_info": {
   "name": "python",
   "version": "3.8.5",
   "mimetype": "text/x-python",
   "codemirror_mode": {
    "name": "ipython",
    "version": 3
   },
   "pygments_lexer": "ipython3",
   "nbconvert_exporter": "python",
   "file_extension": ".py"
  },
  "kernelspec": {
   "name": "python3",
   "display_name": "Python 3.8.5 64-bit ('base': conda)"
  },
  "interpreter": {
   "hash": "d83ad3a39640e45593c9df71430ee3ad7d7609991877e929a0498be1b4dbd18b"
  }
 },
 "nbformat": 4,
 "nbformat_minor": 2
}