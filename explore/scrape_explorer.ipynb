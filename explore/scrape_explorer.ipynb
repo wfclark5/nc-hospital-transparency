{
 "cells": [
  {
   "cell_type": "code",
<<<<<<< HEAD
   "execution_count": 1,
=======
   "execution_count": 2,
>>>>>>> aa41c56655f7470800cee9f868cc044b1c2f47b7
   "source": [
    "import sys\r\n",
    "import os\r\n",
    "from prefect import task, Flow\r\n",
    "\r\n",
    "abspath = os.path.dirname(os.path.normpath(os.path.abspath(os.path.dirname(''))))\r\n",
    "\r\n",
    "sys.path.append(abspath)\r\n",
    "\r\n",
    "driver_path = os.path.join(abspath, 'drivers', 'chromedriver.exe')\r\n",
    "\r\n",
    "raw_download_path = os.path.normpath(os.path.join(abspath, 'data', 'raw'))\r\n",
    "\r\n",
    "curate_download_path = os.path.normpath(os.path.join(abspath, 'data', 'curated'))\r\n",
    "\r\n",
    "from process.raw import *\r\n",
    "\r\n",
    "from process.curate import *\r\n"
   ],
   "outputs": [],
   "metadata": {}
  },
  {
   "cell_type": "code",
<<<<<<< HEAD
   "execution_count": 2,
=======
   "execution_count": 3,
>>>>>>> aa41c56655f7470800cee9f868cc044b1c2f47b7
   "source": [
    "hospital_urls = get_source_urls(driver_path, abspath)"
   ],
   "outputs": [],
   "metadata": {}
  },
  {
   "cell_type": "code",
<<<<<<< HEAD
   "execution_count": null,
   "source": [
    "\"\"\" Curated Standard Charge Data \"\"\"\r\n",
=======
   "execution_count": 4,
   "source": [
    "hospital_urls['wakemed']"
   ],
   "outputs": [
    {
     "output_type": "execute_result",
     "data": {
      "text/plain": [
       "['https://search.hospitalpriceindex.com/hpi2/allServices/WakeMedRaleighCampus/8233or/all',\n",
       " 'https://search.hospitalpriceindex.com/hpi2/allServices/WakeMedCaryHospital/8232or/all']"
      ]
     },
     "metadata": {},
     "execution_count": 4
    }
   ],
   "metadata": {}
  },
  {
   "cell_type": "code",
   "execution_count": null,
   "source": [
    "\"\"\" Have Curated Standard Charge Data \"\"\"\r\n",
    "\r\n",
>>>>>>> aa41c56655f7470800cee9f868cc044b1c2f47b7
    "## Duke\r\n",
    "df_duke = get_duke(hospital_urls, raw_download_path)\r\n",
    "\r\n",
    "curate_duke_df = curate_duke(df_duke, curate_download_path)\r\n",
    "\r\n",
    "## Cone\r\n",
    "df_cone = get_cone(hospital_urls, raw_download_path)\r\n",
    "\r\n",
    "curate_cone_df = curate_cone(df_cone, curate_download_path)\r\n",
    "\r\n",
    "## North Carolina Baptist\r\n",
<<<<<<< HEAD
    "df_ncb = get_ncb(hospital_urls, raw_download_path)\r\n",
=======
    "df_ncb = get_north_carolina_baptist(hospital_urls, raw_download_path)\r\n",
>>>>>>> aa41c56655f7470800cee9f868cc044b1c2f47b7
    "\r\n",
    "curate_ncb_df = curate_ncb(df_ncb, curate_download_path)\r\n",
    "\r\n",
    "## Novant\r\n",
    "df_novant = get_novant(hospital_urls, raw_download_path)\r\n",
    "\r\n",
    "curate_novant_df = curate_novant(df_novant, curate_download_path)\r\n",
    "\r\n",
<<<<<<< HEAD
=======
    "\r\n",
>>>>>>> aa41c56655f7470800cee9f868cc044b1c2f47b7
    "## App Regional\r\n",
    "df_cdm_app, df_drg_app, df_shop_app = get_app(hospital_urls, raw_download_path)\r\n",
    "\r\n",
    "curate_app_df = curate_app_shoppable(df_shop_app, curate_download_path)\r\n",
    "\r\n",
<<<<<<< HEAD
=======
    "\r\n",
>>>>>>> aa41c56655f7470800cee9f868cc044b1c2f47b7
    "## NHRMC\r\n",
    "df_nhrmc_op, df_nhrmc_ip = get_nhrmc(hospital_urls, raw_download_path)\r\n",
    "\r\n",
    "curate_nhrmc_df = curate_nhrmc(df_nhrmc_op, df_nhrmc_ip, curate_download_path)\r\n",
    "\r\n",
<<<<<<< HEAD
=======
    "\r\n",
>>>>>>> aa41c56655f7470800cee9f868cc044b1c2f47b7
    "## Catawba\r\n",
    "df_catawba = get_catawba(hospital_urls,  raw_download_path)\r\n",
    "\r\n",
    "curate_catawba_df = curate_catawba(df_catawba, curate_download_path)\r\n",
    "\r\n",
    "## Northern \r\n",
    "df_northern = get_northern(hospital_urls, raw_download_path)\r\n",
    "\r\n",
<<<<<<< HEAD
    "curated_north_df = curate_northern(df_northern, curate_download_path)\r\n",
    "\r\n",
    "## WakeMed \r\n",
    "df_wakemed = get_wakemed(hospital_urls, raw_download_path, driver_path)\r\n",
    "\r\n",
    "curated_wakemed = curate_wakemed(df_wakemed, curate_download_path)\r\n",
    "\r\n",
    "## First Health \r\n",
    "df_first =  get_first(hospital_urls, raw_download_path) #need to pivot data on payer\r\n",
    "\r\n",
    "curate_first_df = curate_first(df_first, curate_download_path)\r\n",
    "\r\n"
=======
    "curated_north_df = curate_northern(df_northern, curate_download_path)"
>>>>>>> aa41c56655f7470800cee9f868cc044b1c2f47b7
   ],
   "outputs": [],
   "metadata": {}
  },
  {
   "cell_type": "code",
<<<<<<< HEAD
   "execution_count": 15,
   "source": [
    "## Atrium (!!! Need Curate)\r\n",
    "\r\n",
    "def get_atrium(hospital_urls: dict, raw_download_path: str, hospital_id='atrium-health') -> pd.DataFrame:\r\n",
    "\r\n",
    "\t\"\"\"Get Atrium Health data from url\"\"\"\r\n",
    "\r\n",
    "\turl_list = hospital_urls[hospital_id]\r\n",
    "\r\n",
    "\tdownload_path = os.path.join(raw_download_path, hospital_id)\r\n",
    "\r\n",
    "\tcreate_directory(download_path)\r\n",
    "\r\n",
    "\tdf_list = []\r\n",
    "\r\n",
    "\tfor url in url_list:\r\n",
    "\r\n",
    "\t\tfilename = url.split('/')[-1].replace('.json', '.csv')\r\n",
    "\r\n",
    "\t\t# download the file\r\n",
    "\r\n",
    "\t\tresponse = get_url_data(url, is_request=True)\r\n",
    "\r\n",
    "\t\t# create pandas dataframe from response\r\n",
    "\r\n",
    "\t\tdf = pd.read_json(response.data)\r\n",
    "\r\n",
    "\t\tdf.replace(r'', np.nan, inplace=True)\r\n",
    "\r\n",
    "\t\tdf['Filename'] = filename\r\n",
    "\r\n",
    "\t\t# strip white space\r\n",
    "\r\n",
    "\t\tdf.columns = df.columns.str.strip()\r\n",
    "\r\n",
    "\t\tif 'BehavioralHealth' in filename:\r\n",
    "\t\t\tdf['Min /Max'] = None\r\n",
    "\t\t\tdf['Outpatient Negotiated Charge'] = None\r\n",
    "\t\t\tdf['Plan'] = None\r\n",
    "\t\t\tdf['Inpatient Negotiated Charge'] = None\r\n",
    "\r\n",
    "\t\t\r\n",
    "\t\ttry:\r\n",
    "\t\t\tdf = df[[\"Procedure\", \"Code Type\", \"Code\", \"Rev Code\", \"Procedure Description\", \"Min /Max\",\r\n",
    "\t\t\t\t\t\"Inpatient Gross Charge\", \"Inpatient Negotiated Charge\", \"Outpatient Gross Charge\",\r\n",
    "\t\t\t\t\t\"Outpatient Negotiated Charge\", \"TabName\", \"Quantity\", \"Payer\", \"Plan(s)\",  \"Inpatient Discounted Charge\",\r\n",
    "\t\t\t\t\t\"Outpatient Discounted Charge\", \"Plan\", \"Product\", \"Gross Charge - Facility\", \"Negotiated Charge - Facility\",\r\n",
    "\t\t\t\t\t\"Gross Charge - Non-Facility\", \"Negotiated Charge - Non-Facility\"]]\r\n",
    "\t\texcept Exception as e:\r\n",
    "\t\t\tprint(filename)\r\n",
    "\t\t\tprint(e)\r\n",
    "\r\n",
    "\t\t# df.to_csv(os.path.join(download_path, filename), index=False)\r\n",
    "\r\n",
    "\r\n",
    "\t\t# df_list.append(df)\r\n",
    "\r\n",
    "\r\n",
    "\treturn None\r\n",
    "\t\r\n",
    "\r\n",
    "df_atrium = get_atrium(hospital_urls, raw_download_path)\r\n"
   ],
   "outputs": [],
   "metadata": {}
  },
  {
   "cell_type": "code",
   "execution_count": 16,
   "source": [
    "df_atrium.head(10)"
   ],
   "outputs": [
    {
     "output_type": "error",
     "ename": "AttributeError",
     "evalue": "'NoneType' object has no attribute 'head'",
     "traceback": [
      "\u001b[1;31m---------------------------------------------------------------------------\u001b[0m",
      "\u001b[1;31mAttributeError\u001b[0m                            Traceback (most recent call last)",
      "\u001b[1;32m<ipython-input-16-b10d8e49e2f9>\u001b[0m in \u001b[0;36m<module>\u001b[1;34m\u001b[0m\n\u001b[1;32m----> 1\u001b[1;33m \u001b[0mdf_atrium\u001b[0m\u001b[1;33m.\u001b[0m\u001b[0mhead\u001b[0m\u001b[1;33m(\u001b[0m\u001b[1;36m10\u001b[0m\u001b[1;33m)\u001b[0m\u001b[1;33m\u001b[0m\u001b[1;33m\u001b[0m\u001b[0m\n\u001b[0m",
      "\u001b[1;31mAttributeError\u001b[0m: 'NoneType' object has no attribute 'head'"
=======
   "execution_count": 6,
   "source": [
    "\r\n",
    "def get_wakemed(hospital_urls: dict, raw_download_path: str, driver_path: str, hospital_id='wakemed') -> pd.DataFrame:\r\n",
    "\r\n",
    "\t\"\"\"Get wakemed data from url\"\"\"\r\n",
    "\r\n",
    "\t## create a list comprehension to get the urls for each hospital\r\n",
    "\turl_list = hospital_urls[hospital_id]\r\n",
    "\r\n",
    "\tprint(url_list)\r\n",
    "\r\n",
    "\tdownload_path = os.path.join(raw_download_path, hospital_id)\r\n",
    "\t\r\n",
    "\tcreate_directory(download_path)\r\n",
    "\r\n",
    "\tdriver = create_driver(download_path, driver_path)\r\n",
    "\r\n",
    "\tdfs_list = []\r\n",
    "\t\r\n",
    "\tfor url in url_list:\r\n",
    "\t# infee filename from url\r\n",
    "\t\r\n",
    "\t\tdriver.get(url)\r\n",
    "\r\n",
    "\t\txpath = '/html/body/app-root/app-allservices/div[1]/div/div[3]/div/app-paginator/div[2]/div/div/button'\r\n",
    "\r\n",
    "\t\tdriver.execute_script(\"arguments[0].click();\", WebDriverWait(driver, 20).until(EC.element_to_be_clickable((By.XPATH, xpath))))\r\n",
    "\r\n",
    "\t\tdriver.switch_to.alert.accept()\r\n",
    "\r\n",
    "\t\tsleep(10)\r\n",
    "\r\n",
    "\tdownload_wait(directory=download_path, timeout=60, nfiles=1)\r\n",
    "\r\n",
    "\tjson_list = [pos_json for pos_json in os.listdir(download_path)]\r\n",
    "\r\n",
    "\tfor file in json_list:\r\n",
    "\r\n",
    "\t\tif file.endswith('.json'):\r\n",
    "\r\n",
    "\t\t\tjson_file = os.path.join(download_path, file)\r\n",
    "\r\n",
    "\t\t\twakemed_json = open(json_file, 'r').read()\r\n",
    "\r\n",
    "\t\t\twakemed_data = wakemed_json.replace('\\x00', '')\r\n",
    "\r\n",
    "\t\t\tdf = pd.read_json(wakemed_data)\r\n",
    "\r\n",
    "\t\t\tfilename = os.path.join(download_path, f'{hospital_id}-standard_charges.csv')\r\n",
    "\r\n",
    "\t\t\tdf['Filename'] = hospital_id\r\n",
    "\r\n",
    "\t\t\tif not os.path.isfile(filename):\r\n",
    "\t\t\t\tdf.to_csv(filename, index=False)\r\n",
    "\t\t\telse: # else it exists so append without writing the header\r\n",
    "\t\t\t\tdf.to_csv(filename, mode='a', header=False, index=False)\r\n",
    "\r\n",
    "\t\t\tos.remove(json_file)\r\n",
    "\r\n",
    "\t\t\tdfs_list.append(df)\r\n",
    "\t\telse:\r\n",
    "\t\t\tcontinue\r\n",
    "\r\n",
    "\treturn pd.concat(dfs_list)\r\n",
    "## WakeMed Cary\r\n",
    "\r\n",
    "df_wakemed = get_wakemed(hospital_urls, raw_download_path, driver_path)"
   ],
   "outputs": [
    {
     "output_type": "stream",
     "name": "stdout",
     "text": [
      "['https://search.hospitalpriceindex.com/hpi2/allServices/WakeMedRaleighCampus/8233or/all', 'https://search.hospitalpriceindex.com/hpi2/allServices/WakeMedCaryHospital/8232or/all']\n",
      "Waiting for downloads to finish\n"
>>>>>>> aa41c56655f7470800cee9f868cc044b1c2f47b7
     ]
    }
   ],
   "metadata": {}
  },
  {
   "cell_type": "code",
<<<<<<< HEAD
   "execution_count": null,
   "source": [
    "[\"Procedure\", \"Code Type\", \"Code\", \"Rev Code\", \"Procedure Description\", \"Quantity\", \"Payer\", \"Plan(s)\", \"Inpatient Gross Charge\", \"Inpatient Discounted Charge\", \"Outpatient Gross Charge\", \"Outpatient Discounted Charge\", \"Price\", \"Discounted Cash Price\", \"Product\", \"Gross Charge - Facility\", \"Negotiated Charge - Facility\", \"Gross Charge - Non-Facility\", \"Negotiated Charge - Non-Facility\"]\r\n"
   ],
   "outputs": [],
   "metadata": {}
  },
  {
   "cell_type": "code",
   "execution_count": null,
   "source": [
    "\"\"\" Below only contain Standard Charges per Payor so we will only curate the raw \"\"\"\r\n",
    "\r\n",
    "## Iredell\r\n",
    "# df_cdm_iredell, df_drg_iredell, df_drg_internet =  get_iredell(hospital_urls, raw_download_path) # Get's charge master but not standard charges\r\n",
    "\r\n",
    "## Mission\r\n",
    "# df_mission = get_mission(hospital_urls, raw_download_path) #Get's charge master but not standard charges\r\n",
    "\r\n",
    "## Cateret \r\n",
    "# df_comp_cateret, df_desc_cateret = get_cateret(hospital_urls,  raw_download_path) #Get's charge master not standard charges\r\n"
   ],
   "outputs": [],
   "metadata": {}
  }
 ],
 "metadata": {
  "orig_nbformat": 4,
  "language_info": {
   "name": "python",
   "version": "3.8.5",
   "mimetype": "text/x-python",
   "codemirror_mode": {
    "name": "ipython",
    "version": 3
   },
   "pygments_lexer": "ipython3",
   "nbconvert_exporter": "python",
   "file_extension": ".py"
  },
  "kernelspec": {
   "name": "python3",
   "display_name": "Python 3.8.5 64-bit ('base': conda)"
  },
  "interpreter": {
   "hash": "d83ad3a39640e45593c9df71430ee3ad7d7609991877e929a0498be1b4dbd18b"
  }
 },
 "nbformat": 4,
 "nbformat_minor": 2
}
=======
   "execution_count": 7,
   "source": [
    "df_wakemed"
   ],
   "outputs": [
    {
     "output_type": "execute_result",
     "data": {
      "text/html": [
       "<div>\n",
       "<style scoped>\n",
       "    .dataframe tbody tr th:only-of-type {\n",
       "        vertical-align: middle;\n",
       "    }\n",
       "\n",
       "    .dataframe tbody tr th {\n",
       "        vertical-align: top;\n",
       "    }\n",
       "\n",
       "    .dataframe thead th {\n",
       "        text-align: right;\n",
       "    }\n",
       "</style>\n",
       "<table border=\"1\" class=\"dataframe\">\n",
       "  <thead>\n",
       "    <tr style=\"text-align: right;\">\n",
       "      <th></th>\n",
       "      <th>Associated_Codes</th>\n",
       "      <th>Cash_Discount</th>\n",
       "      <th>DeIdentified_Max_Allowed</th>\n",
       "      <th>Deidentified_Min_Allowed</th>\n",
       "      <th>description</th>\n",
       "      <th>Gross_Charge</th>\n",
       "      <th>iobSelection</th>\n",
       "      <th>payer</th>\n",
       "      <th>Payer_Allowed_Amount</th>\n",
       "      <th>Filename</th>\n",
       "      <th>Avg_Gross_Charge</th>\n",
       "    </tr>\n",
       "  </thead>\n",
       "  <tbody>\n",
       "    <tr>\n",
       "      <th>0</th>\n",
       "      <td>0100</td>\n",
       "      <td>10939.676</td>\n",
       "      <td>0.0</td>\n",
       "      <td>0.0</td>\n",
       "      <td>Room &amp; Board</td>\n",
       "      <td>28788.621</td>\n",
       "      <td>Inpatient</td>\n",
       "      <td>AETNA COMMERCIAL</td>\n",
       "      <td>9874.0186</td>\n",
       "      <td>wakemed</td>\n",
       "      <td>NaN</td>\n",
       "    </tr>\n",
       "    <tr>\n",
       "      <th>1</th>\n",
       "      <td>0100</td>\n",
       "      <td>10939.676</td>\n",
       "      <td>0.0</td>\n",
       "      <td>0.0</td>\n",
       "      <td>Room &amp; Board</td>\n",
       "      <td>28788.621</td>\n",
       "      <td>Inpatient</td>\n",
       "      <td>AETNA PPO</td>\n",
       "      <td>10798.6441</td>\n",
       "      <td>wakemed</td>\n",
       "      <td>NaN</td>\n",
       "    </tr>\n",
       "    <tr>\n",
       "      <th>2</th>\n",
       "      <td>0100</td>\n",
       "      <td>10939.676</td>\n",
       "      <td>0.0</td>\n",
       "      <td>0.0</td>\n",
       "      <td>Room &amp; Board</td>\n",
       "      <td>28788.621</td>\n",
       "      <td>Inpatient</td>\n",
       "      <td>BCBS COMMERCIAL</td>\n",
       "      <td>8586.7817</td>\n",
       "      <td>wakemed</td>\n",
       "      <td>NaN</td>\n",
       "    </tr>\n",
       "    <tr>\n",
       "      <th>3</th>\n",
       "      <td>0100</td>\n",
       "      <td>10939.676</td>\n",
       "      <td>0.0</td>\n",
       "      <td>0.0</td>\n",
       "      <td>Room &amp; Board</td>\n",
       "      <td>28788.621</td>\n",
       "      <td>Inpatient</td>\n",
       "      <td>BCBS PPO</td>\n",
       "      <td>8994.6016</td>\n",
       "      <td>wakemed</td>\n",
       "      <td>NaN</td>\n",
       "    </tr>\n",
       "    <tr>\n",
       "      <th>4</th>\n",
       "      <td>0100</td>\n",
       "      <td>10939.676</td>\n",
       "      <td>0.0</td>\n",
       "      <td>0.0</td>\n",
       "      <td>Room &amp; Board</td>\n",
       "      <td>28788.621</td>\n",
       "      <td>Inpatient</td>\n",
       "      <td>CIGNA COMMERCIAL</td>\n",
       "      <td>6810.8037</td>\n",
       "      <td>wakemed</td>\n",
       "      <td>NaN</td>\n",
       "    </tr>\n",
       "    <tr>\n",
       "      <th>...</th>\n",
       "      <td>...</td>\n",
       "      <td>...</td>\n",
       "      <td>...</td>\n",
       "      <td>...</td>\n",
       "      <td>...</td>\n",
       "      <td>...</td>\n",
       "      <td>...</td>\n",
       "      <td>...</td>\n",
       "      <td>...</td>\n",
       "      <td>...</td>\n",
       "      <td>...</td>\n",
       "    </tr>\n",
       "    <tr>\n",
       "      <th>40292</th>\n",
       "      <td>T2101,0270</td>\n",
       "      <td>NaN</td>\n",
       "      <td>NaN</td>\n",
       "  
>>>>>>> aa41c56655f7470800cee9f868cc044b1c2f47b7
