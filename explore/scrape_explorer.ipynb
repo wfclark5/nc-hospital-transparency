{
 "cells": [
  {
   "cell_type": "code",
   "execution_count": 1,
   "source": [
    "import sys\r\n",
    "import os\r\n",
    "from prefect import task, Flow\r\n",
    "\r\n",
    "abspath = os.path.dirname(os.path.normpath(os.path.abspath(os.path.dirname(''))))\r\n",
    "\r\n",
    "sys.path.append(abspath)\r\n",
    "\r\n",
    "driver_path = os.path.join(abspath, 'drivers', 'chromedriver.exe')\r\n",
    "\r\n",
    "raw_download_path = os.path.normpath(os.path.join(abspath, 'data', 'raw'))\r\n",
    "\r\n",
    "curate_download_path = os.path.normpath(os.path.join(abspath, 'data', 'curated'))\r\n",
    "\r\n",
    "from process.raw import *\r\n",
    "\r\n",
    "from process.curate import *\r\n"
   ],
   "outputs": [],
   "metadata": {}
  },
  {
   "cell_type": "code",
   "execution_count": 2,
   "source": [
    "hospital_urls = get_source_urls(driver_path, abspath)"
   ],
   "outputs": [],
   "metadata": {}
  },
  {
   "cell_type": "code",
   "execution_count": 3,
   "source": [
    "\"\"\" Curated Standard Charge Data \"\"\"\r\n",
    "## Duke\r\n",
    "df_duke = get_duke(hospital_urls, raw_download_path)\r\n",
    "\r\n",
    "curate_duke_df = curate_duke(df_duke, curate_download_path)\r\n",
    "\r\n",
    "## Cone\r\n",
    "df_cone = get_cone(hospital_urls, raw_download_path)\r\n",
    "\r\n",
    "curate_cone_df = curate_cone(df_cone, curate_download_path)\r\n",
    "\r\n",
    "\r\n",
    "## North Carolina Baptist\r\n",
    "df_ncb = get_ncb(hospital_urls, raw_download_path)\r\n",
    "\r\n",
    "curate_ncb_df = curate_ncb(df_ncb, curate_download_path)\r\n",
    "\r\n",
    "\r\n",
    "## Novant\r\n",
    "df_novant = get_novant(hospital_urls, raw_download_path)\r\n",
    "\r\n",
    "curate_novant_df = curate_novant(df_novant, curate_download_path)\r\n",
    "\r\n",
    "## App Regional\r\n",
    "df_cdm_app, df_drg_app, df_shop_app = get_app(hospital_urls, raw_download_path)\r\n",
    "\r\n",
    "curate_app_df = curate_app_shoppable(df_shop_app, curate_download_path)\r\n",
    "\r\n",
    "## NHRMC\r\n",
    "df_nhrmc_op, df_nhrmc_ip = get_nhrmc(hospital_urls, raw_download_path)\r\n",
    "\r\n",
    "curate_nhrmc_df = curate_nhrmc(df_nhrmc_op, df_nhrmc_ip, curate_download_path)\r\n",
    "\r\n",
    "## Catawba\r\n",
    "df_catawba = get_catawba(hospital_urls,  raw_download_path)\r\n",
    "\r\n",
    "curate_catawba_df = curate_catawba(df_catawba, curate_download_path)\r\n",
    "\r\n",
    "## Northern \r\n",
    "df_northern = get_northern(hospital_urls, raw_download_path)\r\n",
    "\r\n",
    "curated_north_df = curate_northern(df_northern, curate_download_path)\r\n",
    "\r\n",
    "## WakeMed \r\n",
    "df_wakemed = get_wakemed(hospital_urls, raw_download_path, driver_path)\r\n",
    "\r\n",
    "curated_wakemed = curate_wakemed(df_wakemed, curate_download_path)\r\n",
    "\r\n",
    "## First Health \r\n",
    "df_first =  get_first(hospital_urls, raw_download_path) #need to pivot data on payer\r\n",
    "\r\n",
    "curate_first_df = curate_first(df_first, curate_download_path)\r\n"
   ],
   "outputs": [
    {
     "output_type": "stream",
     "name": "stdout",
     "text": [
      "Index(['MS-DRG/APC', 'Description', 'Average Charge', 'Aetna', 'BCBS',\n",
      "       'Cigna HMO/PPO', 'Humana PPO', 'MedCost', 'UHC',\n",
      "       'De-Identified Minimum Negotiated Charge',\n",
      "       'De-Identified Maximum Negotiated Charge', 'Filename',\n",
      "       'Atlantic Packaging', 'Cigna', 'Multiplan', 'UHC NHRMC Employee Rates',\n",
      "       'BCBS Blue Value', 'Cigna HMO', 'Coventry - First Health', 'Medcost',\n",
      "       'Aetna NC Preferred', 'Humana', 'Medcost Southeast',\n",
      "       'Blue Cross - Indemnity', 'Medcost Columbus'],\n",
      "      dtype='object')\n",
      "Waiting for downloads to finish\n"
     ]
    }
   ],
   "metadata": {}
  },
  {
   "cell_type": "code",
   "execution_count": null,
   "source": [
    "## Atrium (!!! Need Curate)\r\n",
    "df_atrium = get_atrium(hospital_urls, raw_download_path)"
   ],
   "outputs": [],
   "metadata": {}
  },
  {
   "cell_type": "code",
   "execution_count": null,
   "source": [
    "df_atrium.head(10)"
   ],
   "outputs": [],
   "metadata": {}
  },
  {
   "cell_type": "code",
   "execution_count": null,
   "source": [
    "##  Vidant (!!! Need Curate)\r\n",
    "# df_vidant = get_vidant(hospital_urls, raw_download_path)\r\n"
   ],
   "outputs": [],
   "metadata": {}
  },
  {
   "cell_type": "code",
   "execution_count": null,
   "source": [
    "\"\"\" Below only contain Standard Charges per Payor so we will only curate the raw \"\"\"\r\n",
    "\r\n",
    "## Iredell\r\n",
    "# df_cdm_iredell, df_drg_iredell, df_drg_internet =  get_iredell(hospital_urls, raw_download_path) # Get's charge master but not standard charges\r\n",
    "\r\n",
    "## Mission\r\n",
    "# df_mission = get_mission(hospital_urls, raw_download_path) #Get's charge master but not standard charges\r\n",
    "\r\n",
    "## Cateret \r\n",
    "# df_comp_cateret, df_desc_cateret = get_cateret(hospital_urls,  raw_download_path) #Get's charge master not standard charges\r\n"
   ],
   "outputs": [],
   "metadata": {}
  }
 ],
 "metadata": {
  "orig_nbformat": 4,
  "language_info": {
   "name": "python",
   "version": "3.8.5",
   "mimetype": "text/x-python",
   "codemirror_mode": {
    "name": "ipython",
    "version": 3
   },
   "pygments_lexer": "ipython3",
   "nbconvert_exporter": "python",
   "file_extension": ".py"
  },
  "kernelspec": {
   "name": "python3",
   "display_name": "Python 3.8.5 64-bit ('base': conda)"
  },
  "interpreter": {
   "hash": "d83ad3a39640e45593c9df71430ee3ad7d7609991877e929a0498be1b4dbd18b"
  }
 },
 "nbformat": 4,
 "nbformat_minor": 2
}