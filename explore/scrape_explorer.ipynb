{
 "cells": [
  {
   "cell_type": "code",
   "execution_count": 4,
   "source": [
    "import sys\r\n",
    "import os\r\n",
    "from prefect import task, Flow\r\n",
    "\r\n",
    "abspath = os.path.dirname(os.path.normpath(os.path.abspath(os.path.dirname(''))))\r\n",
    "\r\n",
    "sys.path.append(abspath)\r\n",
    "\r\n",
    "driver_path = os.path.join(abspath, 'drivers', 'chromedriver.exe')\r\n",
    "\r\n",
    "raw_download_path = os.path.normpath(os.path.join(abspath, 'data', 'raw'))\r\n",
    "\r\n",
    "from toolbox.scrapers import *\r\n",
    "\r\n",
    "# Data Structure: ['HCPCS/ CPT/NDC Code', 'Internal Proc Code', 'Other Code',\r\n",
    "#        'Procedure Name', 'Charge', 'Medicare Adv - Aetna',\r\n",
    "#        'Medicare Adv - BCBS', 'Medicare Adv - Humana', 'Medicare Adv - United',\r\n",
    "#        'Medicare Adv - Other', 'Aetna', 'BCBS', 'Cigna', 'Exchange/Ambetter',\r\n",
    "#        'Medcost', 'United', 'Other Mgd Care', 'Tricare', 'Workers Comp',\r\n",
    "#        'Self Pay', 'De-identified Minimum', 'De-identified Maximum']\r\n"
   ],
   "outputs": [],
   "metadata": {}
  },
  {
   "cell_type": "code",
   "execution_count": 2,
   "source": [
    "hospital_urls = get_source_urls(driver_path, abspath)\r\n"
   ],
   "outputs": [],
   "metadata": {}
  },
  {
   "cell_type": "code",
   "execution_count": null,
   "source": [
    "df_cone = get_cone('cone-health', hospital_urls, raw_download_path)\r\n"
   ],
   "outputs": [],
   "metadata": {}
  },
  {
   "cell_type": "code",
   "execution_count": 12,
   "source": [
    "df_duke_cdm, df_duke_drg = get_duke('duke-university-hospital', hospital_urls, raw_download_path)\r\n"
   ],
   "outputs": [],
   "metadata": {}
  },
  {
   "cell_type": "code",
   "execution_count": 6,
   "source": [
    "df_ncb = get_north_carolina_baptist('north-carolina-baptist-hospital', hospital_urls, raw_download_path)\r\n"
   ],
   "outputs": [
    {
     "output_type": "stream",
     "name": "stdout",
     "text": [
      "North-Carolina-Baptist-Hospital--Transparency-File-FINAL.csv?la=en\n",
      "Davie-Medical-Center-Transparency-12312020-FINAL.csv?la=en\n",
      "High-Point-Regional-Medical-Center-Transparency-File-12312020-FINAL.csv?la=en\n",
      "Lexington-Medical-Center-Transparency-12312020-FINAL.csv?la=en\n",
      "Wilkes-Regional-Medical-Center-Transparency-12312020-FINAL.csv?la=en\n"
     ]
    }
   ],
   "metadata": {}
  },
  {
   "cell_type": "code",
   "execution_count": null,
   "source": [
    "df_ncb.head(10)"
   ],
   "outputs": [],
   "metadata": {}
  },
  {
   "cell_type": "code",
   "execution_count": 10,
   "source": [
    "df_cdm_app, df_drg_app, df_shop_app = get_app('app-regional-health-system', hospital_urls, raw_download_path)\r\n"
   ],
   "outputs": [],
   "metadata": {}
  },
  {
   "cell_type": "code",
   "execution_count": null,
   "source": [],
   "outputs": [],
   "metadata": {}
  },
  {
   "cell_type": "code",
   "execution_count": null,
   "source": [
    "\r\n",
    "df_catawba = get_catawba('catawba-valley-medical-center', hospital_urls,  raw_download_path)\r\n",
    "\r\n",
    "df_comp_cateret, df_desc_cateret = get_cateret('cateret-health-care', hospital_urls,  raw_download_path)\r\n",
    "\r\n",
    "df_mission = get_mission('mission-health', hospital_urls, raw_download_path)\r\n",
    "\r\n",
    "df_novant = get_novant('novant-health', hospital_urls, raw_download_path)\r\n",
    "\r\n",
    "df_nhrmc_op, df_nhrmc_ip = get_nhrmc('nhrmc-health', hospital_urls, raw_download_path)\r\n",
    "\r\n",
    "df_northern = get_northern('northern-regional', hospital_urls, raw_download_path)\r\n",
    "\r\n",
    "df_first_moore =  get_first('first-health-moore', hospital_urls, raw_download_path)\r\n",
    "\r\n",
    "df_first_montgomery =  get_first('first-health-montgomery', hospital_urls, raw_download_path)\r\n",
    "\r\n",
    "df_cdm_iredell, df_drg_iredell, df_drg_internet =  get_iredell('iredell-health', hospital_urls, raw_download_path)\r\n",
    "\r\n",
    "df_wakemed_cary = get_wakemed('wakemed-cary', hospital_urls, raw_download_path, driver_path)\r\n",
    "\r\n",
    "df_wakemed_raleigh = get_wakemed('wakemed-raleigh', hospital_urls, raw_download_path, driver_path)"
   ],
   "outputs": [],
   "metadata": {}
  },
  {
   "cell_type": "code",
   "execution_count": null,
   "source": [],
   "outputs": [],
   "metadata": {}
  }
 ],
 "metadata": {
  "orig_nbformat": 4,
  "language_info": {
   "name": "python",
   "version": "3.8.5",
   "mimetype": "text/x-python",
   "codemirror_mode": {
    "name": "ipython",
    "version": 3
   },
   "pygments_lexer": "ipython3",
   "nbconvert_exporter": "python",
   "file_extension": ".py"
  },
  "kernelspec": {
   "name": "python3",
   "display_name": "Python 3.8.5 64-bit ('base': conda)"
  },
  "interpreter": {
   "hash": "d83ad3a39640e45593c9df71430ee3ad7d7609991877e929a0498be1b4dbd18b"
  }
 },
 "nbformat": 4,
 "nbformat_minor": 2
}