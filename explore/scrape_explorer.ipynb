{
 "cells": [
  {
   "cell_type": "code",
   "execution_count": 2,
   "source": [
    "import sys\r\n",
    "import os\r\n",
    "from prefect import task, Flow\r\n",
    "\r\n",
    "abspath = os.path.dirname(os.path.normpath(os.path.abspath(os.path.dirname(''))))\r\n",
    "\r\n",
    "sys.path.append(abspath)\r\n",
    "\r\n",
    "driver_path = os.path.join(abspath, 'drivers', 'chromedriver.exe')\r\n",
    "\r\n",
    "raw_download_path = os.path.normpath(os.path.join(abspath, 'data', 'raw'))\r\n",
    "\r\n",
    "from toolbox.scrapers import *"
   ],
   "outputs": [],
   "metadata": {}
  },
  {
   "cell_type": "code",
   "execution_count": 3,
   "source": [
    "hospital_urls = get_source_urls(driver_path, raw_download_path)\r\n"
   ],
   "outputs": [
    {
     "output_type": "stream",
     "name": "stdout",
     "text": [
      "C:\\Users\\remot\\OneDrive\\Desktop\\Personal\\nc-hospital-transparency\\hospitals.csv\n",
      "                            hospital_name  \\\n",
      "0                Duke University Hospital   \n",
      "1         North Carolina Baptist Hospital   \n",
      "2   University of North Carolina Hospital   \n",
      "3  Appalachian Regional Healthcare System   \n",
      "4                           Atrium Health   \n",
      "\n",
      "                             hospital_id  \\\n",
      "0               duke-university-hospital   \n",
      "1        north-carolina-baptist-hospital   \n",
      "2  university-of-north-carolina-hospital   \n",
      "3             app-regional-health-system   \n",
      "4                          atrium-health   \n",
      "\n",
      "                                        hospital_url  hospital_prefix  \n",
      "0  https://www.dukehealth.org/paying-for-care/wha...              NaN  \n",
      "1  https://www.wakehealth.edu/Patient-and-Family-...              NaN  \n",
      "2  https://www.unchealthcare.org/about-us/billing...              NaN  \n",
      "3  https://apprhs.org/estimate-your-healthcare-cost/              NaN  \n",
      "4  https://atriumhealth.org/for-patients-visitors...              NaN  \n"
     ]
    }
   ],
   "metadata": {}
  },
  {
   "cell_type": "code",
   "execution_count": 4,
   "source": [
    "def get_duke(hospital_id: str, hospital_urls: dict, raw_download_path: str) -> None:\r\n",
    "\r\n",
    "    \"\"\"Get Duke data and download the csv files\"\"\"\r\n",
    "\r\n",
    "    url_list = hospital_urls[hospital_id]\r\n",
    "    \r\n",
    "    download_path = os.path.join(raw_download_path, hospital_id)\r\n",
    "    \r\n",
    "    create_directory(download_path)\r\n",
    "\r\n",
    "    df_cdm = pd.DataFrame()\r\n",
    "\r\n",
    "    df_drg = pd.DataFrame()\r\n",
    "\r\n",
    "    for url in url_list:\r\n",
    "        print(url)\r\n",
    "        # infer filename from url \r\n",
    "        filename = url.split('/')[-1]\r\n",
    "        # download the file\r\n",
    "        print(filename)\r\n",
    "        response = get_url_data(url, is_request=True)\r\n",
    "        # write reponse to csv file \r\n",
    "        # df = pd.read_csv(io.StringIO(response.content.decode('utf-8')), error_bad_lines=False)\r\n",
    "        # df = pd.read_csv(response.content)\r\n",
    "        \r\n",
    "        with open(os.path.join(download_path, filename), 'wb') as f:\r\n",
    "            f.write(response.content)\r\n",
    "\r\n"
   ],
   "outputs": [],
   "metadata": {}
  },
  {
   "cell_type": "code",
   "execution_count": 7,
   "source": [
    "get_duke('duke-university-hospital', hospital_urls, raw_download_path)\r\n"
   ],
   "outputs": [
    {
     "output_type": "stream",
     "name": "stdout",
     "text": [
      "https://www.dukehealth.org//sites/default/files/general_page/56-2070036_DUH_standardcharges_drg.csv\n",
      "56-2070036_DUH_standardcharges_drg.csv\n",
      "https://www.dukehealth.org//sites/default/files/general_page/56-2070036_DRH_standardcharges_drg.csv\n",
      "56-2070036_DRH_standardcharges_drg.csv\n",
      "https://www.dukehealth.org//sites/default/files/general_page/56-2070036_DRH_standardcharges_cdm.csv\n",
      "56-2070036_DRH_standardcharges_cdm.csv\n",
      "https://www.dukehealth.org//sites/default/files/general_page/56-2070036_DRaH_standardcharges_drg.csv\n",
      "56-2070036_DRaH_standardcharges_drg.csv\n",
      "https://www.dukehealth.org//sites/default/files/general_page/56-2070036_DRaH_standardcharges_cdm.csv\n",
      "56-2070036_DRaH_standardcharges_cdm.csv\n",
      "https://www.dukehealth.org//sites/default/files/general_page/56-2070036_DUH_standardcharges_cdm.csv\n",
      "56-2070036_DUH_standardcharges_cdm.csv\n"
     ]
    }
   ],
   "metadata": {}
  },
  {
   "cell_type": "code",
   "execution_count": null,
   "source": [],
   "outputs": [],
   "metadata": {}
  }
 ],
 "metadata": {
  "orig_nbformat": 4,
  "language_info": {
   "name": "python",
   "version": "3.8.5",
   "mimetype": "text/x-python",
   "codemirror_mode": {
    "name": "ipython",
    "version": 3
   },
   "pygments_lexer": "ipython3",
   "nbconvert_exporter": "python",
   "file_extension": ".py"
  },
  "kernelspec": {
   "name": "python3",
   "display_name": "Python 3.8.5 64-bit ('base': conda)"
  },
  "interpreter": {
   "hash": "d83ad3a39640e45593c9df71430ee3ad7d7609991877e929a0498be1b4dbd18b"
  }
 },
 "nbformat": 4,
 "nbformat_minor": 2
}